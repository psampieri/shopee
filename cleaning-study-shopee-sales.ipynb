{
 "cells": [
  {
   "cell_type": "markdown",
   "id": "8209f86c",
   "metadata": {
    "papermill": {
     "duration": 0.004494,
     "end_time": "2025-03-05T14:07:20.424771",
     "exception": false,
     "start_time": "2025-03-05T14:07:20.420277",
     "status": "completed"
    },
    "tags": []
   },
   "source": [
    "# Introduction\n",
    "\n",
    "We often stumble across data that is 'dirty', difficult to understand and with many patterns that hinder our analysis. This table table served as good example of how, after some cleaning done, we can extract valuable insights.\n",
    "\n",
    "## Important notes\n",
    "Since this is a study that focus on the cleaning part of the analysis, I'm skipping some crucial steps of the process, such as checking for *realiability or currency*. As we are aware, it's imperative to check if the data we are working with *ROCCCs* - it is *reliable, original, comprehensive, current and cited*, so not to gain biased insights and skewed and flawed results.\n",
    "\n",
    "\n",
    "\n",
    "\n"
   ]
  },
  {
   "cell_type": "markdown",
   "id": "41df1f3b",
   "metadata": {
    "papermill": {
     "duration": 0.003241,
     "end_time": "2025-03-05T14:07:20.431455",
     "exception": false,
     "start_time": "2025-03-05T14:07:20.428214",
     "status": "completed"
    },
    "tags": []
   },
   "source": [
    "## Insights\n",
    "\n",
    "Right off the bat, with just some cleaning and a very quick analysis, some valuable insights were gathered. Let`s see them:\n",
    "\n",
    "| Clothing (Men / Women) and Healthcare are the Top Sellers |\n",
    "| ---------------------------------------------------------- |\n",
    "| These two (or three) categories of products are responsible for the most sales |\n",
    "\n",
    "| Mean discount overall is over 30% and many products have zero cost |\n",
    "| ------------------------------------------------------------------- |\n",
    "| How do promotions work? Do they really engage people to buy more? |\n",
    "\n",
    "| Sub-category number 1 of non-clothing products is *Selfie-related gadgets* |\n",
    "| ------------------------------------------------------------------------ |\n",
    "| Advertising in social media should be a top priority |\n",
    "\n",
    "\n"
   ]
  },
  {
   "cell_type": "markdown",
   "id": "10ea2cb4",
   "metadata": {
    "papermill": {
     "duration": 0.003156,
     "end_time": "2025-03-05T14:07:20.437955",
     "exception": false,
     "start_time": "2025-03-05T14:07:20.434799",
     "status": "completed"
    },
    "tags": []
   },
   "source": [
    "# Processing and Cleaning"
   ]
  },
  {
   "cell_type": "code",
   "execution_count": 1,
   "id": "b07276c8",
   "metadata": {
    "_execution_state": "idle",
    "_uuid": "051d70d956493feee0c6d64651c6a088724dca2a",
    "execution": {
     "iopub.execute_input": "2025-03-05T14:07:20.448842Z",
     "iopub.status.busy": "2025-03-05T14:07:20.446917Z",
     "iopub.status.idle": "2025-03-05T14:07:22.106012Z",
     "shell.execute_reply": "2025-03-05T14:07:22.104543Z"
    },
    "papermill": {
     "duration": 1.667145,
     "end_time": "2025-03-05T14:07:22.108415",
     "exception": false,
     "start_time": "2025-03-05T14:07:20.441270",
     "status": "completed"
    },
    "tags": []
   },
   "outputs": [
    {
     "name": "stderr",
     "output_type": "stream",
     "text": [
      "── \u001b[1mAttaching core tidyverse packages\u001b[22m ──────────────────────── tidyverse 2.0.0 ──\n",
      "\u001b[32m✔\u001b[39m \u001b[34mdplyr    \u001b[39m 1.1.4     \u001b[32m✔\u001b[39m \u001b[34mreadr    \u001b[39m 2.1.5\n",
      "\u001b[32m✔\u001b[39m \u001b[34mforcats  \u001b[39m 1.0.0     \u001b[32m✔\u001b[39m \u001b[34mstringr  \u001b[39m 1.5.1\n",
      "\u001b[32m✔\u001b[39m \u001b[34mggplot2  \u001b[39m 3.5.1     \u001b[32m✔\u001b[39m \u001b[34mtibble   \u001b[39m 3.2.1\n",
      "\u001b[32m✔\u001b[39m \u001b[34mlubridate\u001b[39m 1.9.3     \u001b[32m✔\u001b[39m \u001b[34mtidyr    \u001b[39m 1.3.1\n",
      "\u001b[32m✔\u001b[39m \u001b[34mpurrr    \u001b[39m 1.0.2     \n"
     ]
    },
    {
     "name": "stderr",
     "output_type": "stream",
     "text": [
      "── \u001b[1mConflicts\u001b[22m ────────────────────────────────────────── tidyverse_conflicts() ──\n",
      "\u001b[31m✖\u001b[39m \u001b[34mdplyr\u001b[39m::\u001b[32mfilter()\u001b[39m masks \u001b[34mstats\u001b[39m::filter()\n",
      "\u001b[31m✖\u001b[39m \u001b[34mdplyr\u001b[39m::\u001b[32mlag()\u001b[39m    masks \u001b[34mstats\u001b[39m::lag()\n",
      "\u001b[36mℹ\u001b[39m Use the conflicted package (\u001b[3m\u001b[34m<http://conflicted.r-lib.org/>\u001b[39m\u001b[23m) to force all conflicts to become errors\n"
     ]
    },
    {
     "name": "stderr",
     "output_type": "stream",
     "text": [
      "Loading required package: viridisLite\n",
      "\n"
     ]
    }
   ],
   "source": [
    "library(tidyverse)\n",
    "library(skimr)\n",
    "library(tinytable)\n",
    "library(knitr)\n",
    "library(viridis)\n",
    "library(patchwork)"
   ]
  },
  {
   "cell_type": "code",
   "execution_count": 2,
   "id": "7a27eef0",
   "metadata": {
    "execution": {
     "iopub.execute_input": "2025-03-05T14:07:22.142160Z",
     "iopub.status.busy": "2025-03-05T14:07:22.118527Z",
     "iopub.status.idle": "2025-03-05T14:07:23.142241Z",
     "shell.execute_reply": "2025-03-05T14:07:23.140790Z"
    },
    "jupyter": {
     "source_hidden": true
    },
    "papermill": {
     "duration": 1.031754,
     "end_time": "2025-03-05T14:07:23.144170",
     "exception": false,
     "start_time": "2025-03-05T14:07:22.112416",
     "status": "completed"
    },
    "tags": []
   },
   "outputs": [],
   "source": [
    "shopee <- read.csv (\"../input/shopee-sample-data/20240121_shopee_sample_data (1).csv\")"
   ]
  },
  {
   "cell_type": "code",
   "execution_count": 3,
   "id": "617f9fe7",
   "metadata": {
    "execution": {
     "iopub.execute_input": "2025-03-05T14:07:23.155041Z",
     "iopub.status.busy": "2025-03-05T14:07:23.153612Z",
     "iopub.status.idle": "2025-03-05T14:07:23.193220Z",
     "shell.execute_reply": "2025-03-05T14:07:23.190953Z"
    },
    "jupyter": {
     "source_hidden": true
    },
    "papermill": {
     "duration": 0.048037,
     "end_time": "2025-03-05T14:07:23.196162",
     "exception": false,
     "start_time": "2025-03-05T14:07:23.148125",
     "status": "completed"
    },
    "tags": []
   },
   "outputs": [
    {
     "name": "stdout",
     "output_type": "stream",
     "text": [
      "'data.frame':\t20312 obs. of  20 variables:\n",
      " $ price_ori           : num  25.8 1.41 8.5 8.7 3999 ...\n",
      " $ delivery            : chr  \"KL City, Kuala Lumpur\" \"\" \"KL City, Kuala Lumpur\" \"\" ...\n",
      " $ item_category_detail: chr  \"Shopee | Women's Bags | Shoulder Bags | Shoulder Bags\" \"Shopee | Home Appliances | Sewing Machines | Sewing Machines and Accessories\" \"Shopee | Women's Bags | Handbags | Set Handbags\" \"Shopee | Women Clothes | Maternity Wear | Innerwear\" ...\n",
      " $ specification       : chr  \"Product Specifications Category Shopee Women's Bags Shoulder Bags Shoulder Bags Bag Style Boston Material Leath\"| __truncated__ \"Product Specifications Category Shopee Home Appliances Sewing Machines Sewing Machines and Accessories Stock 31\"| __truncated__ \"Product Specifications Category Shopee Women's Bags Handbags Set Handbags Bag Style Chain Bag Set Yes Stock 204\"| __truncated__ \"Product Specifications Category Shopee Women Clothes Maternity Wear Innerwear Pattern Plain Bra Style Others Ma\"| __truncated__ ...\n",
      " $ title               : chr  \"1081 PU SLING BAG KULIT leather Casual Beg Tangan Wanita women Shoulder Wallet Purse Travel READY STOCK QQF WHO\"| __truncated__ \"Stat Chinese Traditional Frog Buttons Knot Cheongsam Frog Buckle Sewing Fasteners | Shopee Malaysia\" \"N09 READY STOCK MYFOOYIN woman handbag set 2in1 sling bag | Shopee Malaysia\" \"🔥Shocking Sale🔥Cotton Comfort Nursing Bra Breastfeeding Bra For Pregnancy Women Maternity Underwear B2 衣服 \"| __truncated__ ...\n",
      " $ w_date              : chr  \"2023-04-27\" \"2023-04-27\" \"2023-04-26\" \"2023-04-26\" ...\n",
      " $ link_ori            : chr  \"https://shopee.com.my/1081-PU-SLING-BAG-KULIT-leather-Casual-Beg-Tangan-Wanita-women-Shoulder-Wallet-Purse-Trav\"| __truncated__ \"https://shopee.com.my/Stat-Chinese-Traditional-Frog-Buttons-Knot-Cheongsam-Frog-Buckle-Sewing-Fasteners-i.11063\"| __truncated__ \"https://shopee.com.my/N09-READY-STOCK-MYFOOYIN-woman-handbag-set-2in1-sling-bag-i.24484132.4877043833\" \"https://shopee.com.my/%F0%9F%94%A5Shocking-Sale%F0%9F%94%A5Cotton-Comfort-Nursing-Bra-Breastfeeding-Bra-For-Pre\"| __truncated__ ...\n",
      " $ item_rating         : chr  \"4.9\" \"5.0\" \"4.9\" \"4.9\" ...\n",
      " $ seller_name         : chr  \"qqfwholesale\" \"stationery.my\" \"fooyin88\" \"vivi2002\" ...\n",
      " $ idElastic           : chr  \"19ec9fdedd9fe3e14bc652950fc3c423\" \"5322309be3b6d9c01d15fa19f5b7ad9a\" \"7a36765d1e2ca2b6a5414ddfeedfefc3\" \"7fc4ab69722e4f788f217b4c044f83eb\" ...\n",
      " $ price_actual        : num  12.9 0.75 8.5 8.7 2739 ...\n",
      " $ sitename            : chr  \"shopee\" \"shopee\" \"shopee\" \"shopee\" ...\n",
      " $ idHash              : chr  \"88f051f0a2dcf0d29191e0175b828938\" \"472d22f58af3bb35cf28c6eed7088dc5\" \"ec6ce64f4b77efb38b6392818959f181\" \"ef4e0e17fdc7d0125d8609dcc395bc3d\" ...\n",
      " $ total_rating        : chr  \"179\" \"17\" \"8.1k\" \"6.5k\" ...\n",
      " $ id                  : chr  \"88f051f0a2dcf0d29191e0175b828938\" \"472d22f58af3bb35cf28c6eed7088dc5\" \"ec6ce64f4b77efb38b6392818959f181\" \"ef4e0e17fdc7d0125d8609dcc395bc3d\" ...\n",
      " $ total_sold          : chr  \"179\" \"17\" \"8.1k\" \"6.5k\" ...\n",
      " $ pict_link           : chr  \"https://down-my.img.susercontent.com/file/my-11134207-23010-h3ja8ueqrdmv4e\" \"https://down-my.img.susercontent.com/file/4147ef1ccdabc8c1c6e40fc7042483f2\" \"https://down-my.img.susercontent.com/file/23dace9eee240c5bc53a21fe33d60534\" \"https://down-my.img.susercontent.com/file/df475d312c77bda939138c68fdf6378f\" ...\n",
      " $ favorite            : chr  \"Favorite (128\" \"Favorite (19\" \"Favorite (21.5k\" \"Favorite (3.4k\" ...\n",
      " $ timestamp           : num  1.68e+12 1.68e+12 1.68e+12 1.68e+12 1.68e+12 ...\n",
      " $ desc                : chr  \"🎉 WELCOME To QQF WHOLESALE \\n😍 ALL item ready stock in Johor \\n⚠️ HARI HARI posout kecuali public holiday \\n🤝\"| __truncated__ \"Chinese Traditional Frog Buttons Knot Cheongsam Frog Buckle Sewing Fasteners\\nFeatures: 100% brand new and high\"| __truncated__ \"READY STOCK\\nMEASUREMENT:\\nLONG 26CM X HEIGHT 17CM X WIDTH 8CM - Buy N09 READY STOCK MYFOOYIN woman handbag set 2in1 sling bag\" \"PRODUCT DESCRIPTION\\nMaterial:95%Cotton+5%Spandex\\nCup type    : Full Cup\\nMold Cup Type   : Light Mold Cup\\nCl\"| __truncated__ ...\n"
     ]
    }
   ],
   "source": [
    "str(shopee)\n"
   ]
  },
  {
   "cell_type": "markdown",
   "id": "87f54cb8",
   "metadata": {
    "papermill": {
     "duration": 0.003686,
     "end_time": "2025-03-05T14:07:23.204072",
     "exception": false,
     "start_time": "2025-03-05T14:07:23.200386",
     "status": "completed"
    },
    "tags": []
   },
   "source": [
    "## Separate categories to facilitate the analysis\n",
    "\n",
    "Besides the products, it's crucial to check what categories they belong to and analyse them individually. This contributes to a better understanding of the **product mix** and what to tackle when creating **marketing campaigns and stocking.**"
   ]
  },
  {
   "cell_type": "code",
   "execution_count": 4,
   "id": "0e5d31b9",
   "metadata": {
    "execution": {
     "iopub.execute_input": "2025-03-05T14:07:23.214944Z",
     "iopub.status.busy": "2025-03-05T14:07:23.213574Z",
     "iopub.status.idle": "2025-03-05T14:07:23.953939Z",
     "shell.execute_reply": "2025-03-05T14:07:23.952332Z"
    },
    "papermill": {
     "duration": 0.750403,
     "end_time": "2025-03-05T14:07:23.958172",
     "exception": false,
     "start_time": "2025-03-05T14:07:23.207769",
     "status": "completed"
    },
    "tags": []
   },
   "outputs": [],
   "source": [
    "# Divide the categories for further analysis\n",
    "\n",
    "shopee_cat <- shopee %>%\n",
    "    separate(item_category_detail, into = c(\"cat1\", \"cat2\", \"cat3\", \"cat4\"), sep = \"\\\\|\", fill = \"right\") %>%\n",
    "    separate(delivery, into = c(\"city\", \"country\"), sep = \"\\\\,\", fill = \"right\")"
   ]
  },
  {
   "cell_type": "markdown",
   "id": "5ab24563",
   "metadata": {
    "papermill": {
     "duration": 0.005555,
     "end_time": "2025-03-05T14:07:23.968273",
     "exception": false,
     "start_time": "2025-03-05T14:07:23.962718",
     "status": "completed"
    },
    "tags": []
   },
   "source": [
    "## Checking data types\n",
    "\n",
    "Item ratings: Some contained the phrase \"*No ratings yet*\" - fine for NAs\n",
    "Total ratings: Contained some numbers with *'k'* in the end"
   ]
  },
  {
   "cell_type": "code",
   "execution_count": 5,
   "id": "75f3d1b7",
   "metadata": {
    "execution": {
     "iopub.execute_input": "2025-03-05T14:07:23.981603Z",
     "iopub.status.busy": "2025-03-05T14:07:23.979340Z",
     "iopub.status.idle": "2025-03-05T14:07:24.126098Z",
     "shell.execute_reply": "2025-03-05T14:07:24.124460Z"
    },
    "papermill": {
     "duration": 0.155898,
     "end_time": "2025-03-05T14:07:24.128284",
     "exception": false,
     "start_time": "2025-03-05T14:07:23.972386",
     "status": "completed"
    },
    "tags": []
   },
   "outputs": [],
   "source": [
    "# Convert the columns to numeric; Remove other characters except '.'; Multiply 'k' by 1000\n",
    "\n",
    "shopee_fin <- shopee_cat %>%\n",
    "  mutate(across(c(price_ori, item_rating, price_actual, total_rating, total_sold), \n",
    "                ~ as.numeric(ifelse(grepl(\"k\", ., ignore.case = TRUE),  \n",
    "                                    as.numeric(gsub(\"[^0-9.]\", \"\", .)) * 1000,  \n",
    "                                    as.numeric(gsub(\"[^0-9.]\", \"\", .))))))"
   ]
  },
  {
   "cell_type": "markdown",
   "id": "3035339e",
   "metadata": {
    "papermill": {
     "duration": 0.003772,
     "end_time": "2025-03-05T14:07:24.136362",
     "exception": false,
     "start_time": "2025-03-05T14:07:24.132590",
     "status": "completed"
    },
    "tags": []
   },
   "source": [
    "## Dealing with \"blanks\" and  *nulls*"
   ]
  },
  {
   "cell_type": "code",
   "execution_count": 6,
   "id": "53b6939d",
   "metadata": {
    "execution": {
     "iopub.execute_input": "2025-03-05T14:07:24.147330Z",
     "iopub.status.busy": "2025-03-05T14:07:24.145918Z",
     "iopub.status.idle": "2025-03-05T14:07:24.370824Z",
     "shell.execute_reply": "2025-03-05T14:07:24.369184Z"
    },
    "papermill": {
     "duration": 0.23293,
     "end_time": "2025-03-05T14:07:24.373488",
     "exception": false,
     "start_time": "2025-03-05T14:07:24.140558",
     "status": "completed"
    },
    "tags": []
   },
   "outputs": [
    {
     "name": "stdout",
     "output_type": "stream",
     "text": [
      "$city\n",
      "[1] 13754\n",
      "\n"
     ]
    }
   ],
   "source": [
    "# Show the columns with blank (not NA) values\n",
    "print(as.list(colSums(shopee_fin == \"\", na.rm = TRUE)[colSums(shopee_fin == \"\", na.rm = TRUE) > 0]))\n",
    "\n"
   ]
  },
  {
   "cell_type": "code",
   "execution_count": 7,
   "id": "d3d6ef09",
   "metadata": {
    "execution": {
     "iopub.execute_input": "2025-03-05T14:07:24.384967Z",
     "iopub.status.busy": "2025-03-05T14:07:24.383633Z",
     "iopub.status.idle": "2025-03-05T14:07:24.492997Z",
     "shell.execute_reply": "2025-03-05T14:07:24.491371Z"
    },
    "papermill": {
     "duration": 0.117844,
     "end_time": "2025-03-05T14:07:24.495547",
     "exception": false,
     "start_time": "2025-03-05T14:07:24.377703",
     "status": "completed"
    },
    "tags": []
   },
   "outputs": [],
   "source": [
    "# Convert all the blank values to NA\n",
    "shopee_fin[shopee_fin == \"\"] <- NA"
   ]
  },
  {
   "cell_type": "code",
   "execution_count": 8,
   "id": "4664e83d",
   "metadata": {
    "execution": {
     "iopub.execute_input": "2025-03-05T14:07:24.506597Z",
     "iopub.status.busy": "2025-03-05T14:07:24.505429Z",
     "iopub.status.idle": "2025-03-05T14:07:24.592078Z",
     "shell.execute_reply": "2025-03-05T14:07:24.590538Z"
    },
    "papermill": {
     "duration": 0.094622,
     "end_time": "2025-03-05T14:07:24.594388",
     "exception": false,
     "start_time": "2025-03-05T14:07:24.499766",
     "status": "completed"
    },
    "tags": []
   },
   "outputs": [],
   "source": [
    "# Date to date type\n",
    "shopee_fin$w_date <- as.Date(shopee_fin$w_date, format = \"%Y-%m-%d\")"
   ]
  },
  {
   "cell_type": "markdown",
   "id": "9cd8745c",
   "metadata": {
    "papermill": {
     "duration": 0.003643,
     "end_time": "2025-03-05T14:07:24.602072",
     "exception": false,
     "start_time": "2025-03-05T14:07:24.598429",
     "status": "completed"
    },
    "tags": []
   },
   "source": [
    "## Taking a look at the table after all the cleaning\n",
    "\n",
    "Table is clean and ready to extract KPIs and insights"
   ]
  },
  {
   "cell_type": "code",
   "execution_count": 9,
   "id": "d1cba597",
   "metadata": {
    "execution": {
     "iopub.execute_input": "2025-03-05T14:07:24.612645Z",
     "iopub.status.busy": "2025-03-05T14:07:24.611374Z",
     "iopub.status.idle": "2025-03-05T14:07:24.658465Z",
     "shell.execute_reply": "2025-03-05T14:07:24.656344Z"
    },
    "papermill": {
     "duration": 0.056254,
     "end_time": "2025-03-05T14:07:24.662053",
     "exception": false,
     "start_time": "2025-03-05T14:07:24.605799",
     "status": "completed"
    },
    "tags": []
   },
   "outputs": [
    {
     "data": {
      "text/html": [
       "<table class=\"dataframe\">\n",
       "<caption>A data.frame: 15 × 12</caption>\n",
       "<thead>\n",
       "\t<tr><th scope=col>price_ori</th><th scope=col>city</th><th scope=col>country</th><th scope=col>cat1</th><th scope=col>cat2</th><th scope=col>cat3</th><th scope=col>cat4</th><th scope=col>w_date</th><th scope=col>item_rating</th><th scope=col>price_actual</th><th scope=col>total_rating</th><th scope=col>total_sold</th></tr>\n",
       "\t<tr><th scope=col>&lt;dbl&gt;</th><th scope=col>&lt;chr&gt;</th><th scope=col>&lt;chr&gt;</th><th scope=col>&lt;chr&gt;</th><th scope=col>&lt;chr&gt;</th><th scope=col>&lt;chr&gt;</th><th scope=col>&lt;chr&gt;</th><th scope=col>&lt;date&gt;</th><th scope=col>&lt;dbl&gt;</th><th scope=col>&lt;dbl&gt;</th><th scope=col>&lt;dbl&gt;</th><th scope=col>&lt;dbl&gt;</th></tr>\n",
       "</thead>\n",
       "<tbody>\n",
       "\t<tr><td> 198.00</td><td>KL City</td><td> Kuala Lumpur</td><td>Shopee </td><td><span style=white-space:pre-wrap> Baby &amp; Toys      </span></td><td> Kids Health &amp; Skincare </td><td> Moisturizers, Creams &amp; Ointments</td><td>2023-05-13</td><td>4.8</td><td> 188.00</td><td><span style=white-space:pre-wrap>  30</span></td><td><span style=white-space:pre-wrap>  30</span></td></tr>\n",
       "\t<tr><td><span style=white-space:pre-wrap>  36.00</span></td><td><span style=white-space:pre-wrap>NA     </span></td><td><span style=white-space:pre-wrap>NA           </span></td><td>Shopee </td><td><span style=white-space:pre-wrap> Health &amp; Beauty  </span></td><td><span style=white-space:pre-wrap> Pedicure &amp; Manicure    </span></td><td><span style=white-space:pre-wrap> Treatment &amp; Remover             </span></td><td>2023-05-01</td><td>4.9</td><td><span style=white-space:pre-wrap>  18.53</span></td><td> 181</td><td> 181</td></tr>\n",
       "\t<tr><td><span style=white-space:pre-wrap>   3.00</span></td><td><span style=white-space:pre-wrap>NA     </span></td><td><span style=white-space:pre-wrap>NA           </span></td><td>Shopee </td><td><span style=white-space:pre-wrap> Baby &amp; Toys      </span></td><td><span style=white-space:pre-wrap> Toys &amp; Education       </span></td><td><span style=white-space:pre-wrap> Kids Puzzles                    </span></td><td>2023-04-26</td><td>4.9</td><td><span style=white-space:pre-wrap>   0.74</span></td><td>1400</td><td>1400</td></tr>\n",
       "\t<tr><td><span style=white-space:pre-wrap>     NA</span></td><td>KL City</td><td> Kuala Lumpur</td><td>Shopee </td><td><span style=white-space:pre-wrap> Health &amp; Beauty  </span></td><td><span style=white-space:pre-wrap> Personal Care          </span></td><td><span style=white-space:pre-wrap> Adult Diapers                   </span></td><td>2023-05-05</td><td>4.9</td><td> 135.99</td><td>2400</td><td>2400</td></tr>\n",
       "\t<tr><td><span style=white-space:pre-wrap>  50.00</span></td><td>KL City</td><td> Kuala Lumpur</td><td>Shopee </td><td><span style=white-space:pre-wrap> Baby &amp; Toys      </span></td><td><span style=white-space:pre-wrap> Girls Fashion          </span></td><td><span style=white-space:pre-wrap> Girl Pajamas                    </span></td><td>2023-05-01</td><td>4.9</td><td><span style=white-space:pre-wrap>  11.45</span></td><td>9100</td><td>9100</td></tr>\n",
       "\t<tr><td><span style=white-space:pre-wrap>   0.20</span></td><td>KL City</td><td> Kuala Lumpur</td><td>Shopee </td><td><span style=white-space:pre-wrap> Health &amp; Beauty  </span></td><td><span style=white-space:pre-wrap> Bath &amp; Body            </span></td><td><span style=white-space:pre-wrap> Body Lotion &amp; Others            </span></td><td>2023-05-12</td><td>4.9</td><td><span style=white-space:pre-wrap>   0.20</span></td><td> 594</td><td> 594</td></tr>\n",
       "\t<tr><td> 999.00</td><td>KL City</td><td> Kuala Lumpur</td><td>Shopee </td><td><span style=white-space:pre-wrap> Health &amp; Beauty  </span></td><td><span style=white-space:pre-wrap> Personal Care          </span></td><td><span style=white-space:pre-wrap> Adult Diapers                   </span></td><td>2023-05-05</td><td>4.9</td><td> 999.00</td><td> 446</td><td> 446</td></tr>\n",
       "\t<tr><td>7938.46</td><td>NA     </td><td>NA           </td><td>Shopee </td><td> Watches          </td><td> Others                 </td><td>NA                               </td><td>2023-05-05</td><td> NA</td><td>3969.23</td><td>   0</td><td>   0</td></tr>\n",
       "\t<tr><td><span style=white-space:pre-wrap>   3.89</span></td><td><span style=white-space:pre-wrap>NA     </span></td><td><span style=white-space:pre-wrap>NA           </span></td><td>Shopee </td><td><span style=white-space:pre-wrap> Men Clothes      </span></td><td><span style=white-space:pre-wrap> T-shirts &amp; Singlets    </span></td><td><span style=white-space:pre-wrap> Others                          </span></td><td>2023-04-28</td><td>4.9</td><td><span style=white-space:pre-wrap>   3.89</span></td><td> 847</td><td> 847</td></tr>\n",
       "\t<tr><td><span style=white-space:pre-wrap>   0.30</span></td><td><span style=white-space:pre-wrap>NA     </span></td><td><span style=white-space:pre-wrap>NA           </span></td><td>Shopee </td><td> Sports &amp; Outdoor </td><td><span style=white-space:pre-wrap> Fishing                </span></td><td><span style=white-space:pre-wrap> Hooks                           </span></td><td>2023-05-13</td><td>4.9</td><td><span style=white-space:pre-wrap>   0.30</span></td><td> 149</td><td> 149</td></tr>\n",
       "\t<tr><td> 129.00</td><td>NA     </td><td>NA           </td><td>Shopee </td><td> Men Clothes      </td><td> Others                 </td><td> Others                          </td><td>2023-05-06</td><td> NA</td><td> 129.00</td><td>   2</td><td>   2</td></tr>\n",
       "\t<tr><td><span style=white-space:pre-wrap>   7.20</span></td><td>KL City</td><td> Kuala Lumpur</td><td>Shopee </td><td><span style=white-space:pre-wrap> Women Clothes    </span></td><td><span style=white-space:pre-wrap> Playsuits &amp; Jumpsuits  </span></td><td><span style=white-space:pre-wrap> Others                          </span></td><td>2023-05-13</td><td>5.0</td><td><span style=white-space:pre-wrap>   7.20</span></td><td><span style=white-space:pre-wrap>   3</span></td><td><span style=white-space:pre-wrap>   3</span></td></tr>\n",
       "\t<tr><td> 109.00</td><td>NA     </td><td>NA           </td><td>Shopee </td><td> Men Clothes      </td><td> Sports Wear            </td><td> Training Wear                   </td><td>2023-05-12</td><td>4.9</td><td>  98.10</td><td>  76</td><td>  76</td></tr>\n",
       "\t<tr><td>   1.00</td><td>NA     </td><td>NA           </td><td>Shopee </td><td> Women Clothes    </td><td> Outerwear              </td><td> Sweatshirts                     </td><td>2023-05-12</td><td>5.0</td><td>   1.00</td><td>1400</td><td>1400</td></tr>\n",
       "\t<tr><td>2616.14</td><td>NA     </td><td>NA           </td><td>Shopee </td><td> Watches          </td><td> Others                 </td><td>NA                               </td><td>2023-05-05</td><td> NA</td><td>1308.07</td><td>   0</td><td>   0</td></tr>\n",
       "</tbody>\n",
       "</table>\n"
      ],
      "text/latex": [
       "A data.frame: 15 × 12\n",
       "\\begin{tabular}{llllllllllll}\n",
       " price\\_ori & city & country & cat1 & cat2 & cat3 & cat4 & w\\_date & item\\_rating & price\\_actual & total\\_rating & total\\_sold\\\\\n",
       " <dbl> & <chr> & <chr> & <chr> & <chr> & <chr> & <chr> & <date> & <dbl> & <dbl> & <dbl> & <dbl>\\\\\n",
       "\\hline\n",
       "\t  198.00 & KL City &  Kuala Lumpur & Shopee  &  Baby \\& Toys       &  Kids Health \\& Skincare  &  Moisturizers, Creams \\& Ointments & 2023-05-13 & 4.8 &  188.00 &   30 &   30\\\\\n",
       "\t   36.00 & NA      & NA            & Shopee  &  Health \\& Beauty   &  Pedicure \\& Manicure     &  Treatment \\& Remover              & 2023-05-01 & 4.9 &   18.53 &  181 &  181\\\\\n",
       "\t    3.00 & NA      & NA            & Shopee  &  Baby \\& Toys       &  Toys \\& Education        &  Kids Puzzles                     & 2023-04-26 & 4.9 &    0.74 & 1400 & 1400\\\\\n",
       "\t      NA & KL City &  Kuala Lumpur & Shopee  &  Health \\& Beauty   &  Personal Care           &  Adult Diapers                    & 2023-05-05 & 4.9 &  135.99 & 2400 & 2400\\\\\n",
       "\t   50.00 & KL City &  Kuala Lumpur & Shopee  &  Baby \\& Toys       &  Girls Fashion           &  Girl Pajamas                     & 2023-05-01 & 4.9 &   11.45 & 9100 & 9100\\\\\n",
       "\t    0.20 & KL City &  Kuala Lumpur & Shopee  &  Health \\& Beauty   &  Bath \\& Body             &  Body Lotion \\& Others             & 2023-05-12 & 4.9 &    0.20 &  594 &  594\\\\\n",
       "\t  999.00 & KL City &  Kuala Lumpur & Shopee  &  Health \\& Beauty   &  Personal Care           &  Adult Diapers                    & 2023-05-05 & 4.9 &  999.00 &  446 &  446\\\\\n",
       "\t 7938.46 & NA      & NA            & Shopee  &  Watches           &  Others                  & NA                                & 2023-05-05 &  NA & 3969.23 &    0 &    0\\\\\n",
       "\t    3.89 & NA      & NA            & Shopee  &  Men Clothes       &  T-shirts \\& Singlets     &  Others                           & 2023-04-28 & 4.9 &    3.89 &  847 &  847\\\\\n",
       "\t    0.30 & NA      & NA            & Shopee  &  Sports \\& Outdoor  &  Fishing                 &  Hooks                            & 2023-05-13 & 4.9 &    0.30 &  149 &  149\\\\\n",
       "\t  129.00 & NA      & NA            & Shopee  &  Men Clothes       &  Others                  &  Others                           & 2023-05-06 &  NA &  129.00 &    2 &    2\\\\\n",
       "\t    7.20 & KL City &  Kuala Lumpur & Shopee  &  Women Clothes     &  Playsuits \\& Jumpsuits   &  Others                           & 2023-05-13 & 5.0 &    7.20 &    3 &    3\\\\\n",
       "\t  109.00 & NA      & NA            & Shopee  &  Men Clothes       &  Sports Wear             &  Training Wear                    & 2023-05-12 & 4.9 &   98.10 &   76 &   76\\\\\n",
       "\t    1.00 & NA      & NA            & Shopee  &  Women Clothes     &  Outerwear               &  Sweatshirts                      & 2023-05-12 & 5.0 &    1.00 & 1400 & 1400\\\\\n",
       "\t 2616.14 & NA      & NA            & Shopee  &  Watches           &  Others                  & NA                                & 2023-05-05 &  NA & 1308.07 &    0 &    0\\\\\n",
       "\\end{tabular}\n"
      ],
      "text/markdown": [
       "\n",
       "A data.frame: 15 × 12\n",
       "\n",
       "| price_ori &lt;dbl&gt; | city &lt;chr&gt; | country &lt;chr&gt; | cat1 &lt;chr&gt; | cat2 &lt;chr&gt; | cat3 &lt;chr&gt; | cat4 &lt;chr&gt; | w_date &lt;date&gt; | item_rating &lt;dbl&gt; | price_actual &lt;dbl&gt; | total_rating &lt;dbl&gt; | total_sold &lt;dbl&gt; |\n",
       "|---|---|---|---|---|---|---|---|---|---|---|---|\n",
       "|  198.00 | KL City |  Kuala Lumpur | Shopee  |  Baby &amp; Toys       |  Kids Health &amp; Skincare  |  Moisturizers, Creams &amp; Ointments | 2023-05-13 | 4.8 |  188.00 |   30 |   30 |\n",
       "|   36.00 | NA      | NA            | Shopee  |  Health &amp; Beauty   |  Pedicure &amp; Manicure     |  Treatment &amp; Remover              | 2023-05-01 | 4.9 |   18.53 |  181 |  181 |\n",
       "|    3.00 | NA      | NA            | Shopee  |  Baby &amp; Toys       |  Toys &amp; Education        |  Kids Puzzles                     | 2023-04-26 | 4.9 |    0.74 | 1400 | 1400 |\n",
       "|      NA | KL City |  Kuala Lumpur | Shopee  |  Health &amp; Beauty   |  Personal Care           |  Adult Diapers                    | 2023-05-05 | 4.9 |  135.99 | 2400 | 2400 |\n",
       "|   50.00 | KL City |  Kuala Lumpur | Shopee  |  Baby &amp; Toys       |  Girls Fashion           |  Girl Pajamas                     | 2023-05-01 | 4.9 |   11.45 | 9100 | 9100 |\n",
       "|    0.20 | KL City |  Kuala Lumpur | Shopee  |  Health &amp; Beauty   |  Bath &amp; Body             |  Body Lotion &amp; Others             | 2023-05-12 | 4.9 |    0.20 |  594 |  594 |\n",
       "|  999.00 | KL City |  Kuala Lumpur | Shopee  |  Health &amp; Beauty   |  Personal Care           |  Adult Diapers                    | 2023-05-05 | 4.9 |  999.00 |  446 |  446 |\n",
       "| 7938.46 | NA      | NA            | Shopee  |  Watches           |  Others                  | NA                                | 2023-05-05 |  NA | 3969.23 |    0 |    0 |\n",
       "|    3.89 | NA      | NA            | Shopee  |  Men Clothes       |  T-shirts &amp; Singlets     |  Others                           | 2023-04-28 | 4.9 |    3.89 |  847 |  847 |\n",
       "|    0.30 | NA      | NA            | Shopee  |  Sports &amp; Outdoor  |  Fishing                 |  Hooks                            | 2023-05-13 | 4.9 |    0.30 |  149 |  149 |\n",
       "|  129.00 | NA      | NA            | Shopee  |  Men Clothes       |  Others                  |  Others                           | 2023-05-06 |  NA |  129.00 |    2 |    2 |\n",
       "|    7.20 | KL City |  Kuala Lumpur | Shopee  |  Women Clothes     |  Playsuits &amp; Jumpsuits   |  Others                           | 2023-05-13 | 5.0 |    7.20 |    3 |    3 |\n",
       "|  109.00 | NA      | NA            | Shopee  |  Men Clothes       |  Sports Wear             |  Training Wear                    | 2023-05-12 | 4.9 |   98.10 |   76 |   76 |\n",
       "|    1.00 | NA      | NA            | Shopee  |  Women Clothes     |  Outerwear               |  Sweatshirts                      | 2023-05-12 | 5.0 |    1.00 | 1400 | 1400 |\n",
       "| 2616.14 | NA      | NA            | Shopee  |  Watches           |  Others                  | NA                                | 2023-05-05 |  NA | 1308.07 |    0 |    0 |\n",
       "\n"
      ],
      "text/plain": [
       "   price_ori city    country       cat1    cat2              \n",
       "1   198.00   KL City  Kuala Lumpur Shopee   Baby & Toys      \n",
       "2    36.00   NA      NA            Shopee   Health & Beauty  \n",
       "3     3.00   NA      NA            Shopee   Baby & Toys      \n",
       "4       NA   KL City  Kuala Lumpur Shopee   Health & Beauty  \n",
       "5    50.00   KL City  Kuala Lumpur Shopee   Baby & Toys      \n",
       "6     0.20   KL City  Kuala Lumpur Shopee   Health & Beauty  \n",
       "7   999.00   KL City  Kuala Lumpur Shopee   Health & Beauty  \n",
       "8  7938.46   NA      NA            Shopee   Watches          \n",
       "9     3.89   NA      NA            Shopee   Men Clothes      \n",
       "10    0.30   NA      NA            Shopee   Sports & Outdoor \n",
       "11  129.00   NA      NA            Shopee   Men Clothes      \n",
       "12    7.20   KL City  Kuala Lumpur Shopee   Women Clothes    \n",
       "13  109.00   NA      NA            Shopee   Men Clothes      \n",
       "14    1.00   NA      NA            Shopee   Women Clothes    \n",
       "15 2616.14   NA      NA            Shopee   Watches          \n",
       "   cat3                     cat4                              w_date    \n",
       "1   Kids Health & Skincare   Moisturizers, Creams & Ointments 2023-05-13\n",
       "2   Pedicure & Manicure      Treatment & Remover              2023-05-01\n",
       "3   Toys & Education         Kids Puzzles                     2023-04-26\n",
       "4   Personal Care            Adult Diapers                    2023-05-05\n",
       "5   Girls Fashion            Girl Pajamas                     2023-05-01\n",
       "6   Bath & Body              Body Lotion & Others             2023-05-12\n",
       "7   Personal Care            Adult Diapers                    2023-05-05\n",
       "8   Others                  NA                                2023-05-05\n",
       "9   T-shirts & Singlets      Others                           2023-04-28\n",
       "10  Fishing                  Hooks                            2023-05-13\n",
       "11  Others                   Others                           2023-05-06\n",
       "12  Playsuits & Jumpsuits    Others                           2023-05-13\n",
       "13  Sports Wear              Training Wear                    2023-05-12\n",
       "14  Outerwear                Sweatshirts                      2023-05-12\n",
       "15  Others                  NA                                2023-05-05\n",
       "   item_rating price_actual total_rating total_sold\n",
       "1  4.8          188.00        30           30      \n",
       "2  4.9           18.53       181          181      \n",
       "3  4.9            0.74      1400         1400      \n",
       "4  4.9          135.99      2400         2400      \n",
       "5  4.9           11.45      9100         9100      \n",
       "6  4.9            0.20       594          594      \n",
       "7  4.9          999.00       446          446      \n",
       "8   NA         3969.23         0            0      \n",
       "9  4.9            3.89       847          847      \n",
       "10 4.9            0.30       149          149      \n",
       "11  NA          129.00         2            2      \n",
       "12 5.0            7.20         3            3      \n",
       "13 4.9           98.10        76           76      \n",
       "14 5.0            1.00      1400         1400      \n",
       "15  NA         1308.07         0            0      "
      ]
     },
     "metadata": {},
     "output_type": "display_data"
    }
   ],
   "source": [
    "shopee_fin %>%\n",
    "    select (-specification, -title, -sitename, -link_ori, -idHash, -id, -idElastic, -pict_link, -seller_name, -timestamp, -desc, -favorite) %>%\n",
    "    sample_n(15)"
   ]
  },
  {
   "cell_type": "markdown",
   "id": "f0ffe051",
   "metadata": {
    "papermill": {
     "duration": 0.004596,
     "end_time": "2025-03-05T14:07:24.674220",
     "exception": false,
     "start_time": "2025-03-05T14:07:24.669624",
     "status": "completed"
    },
    "tags": []
   },
   "source": [
    "# Analysis"
   ]
  },
  {
   "cell_type": "markdown",
   "id": "105b2513",
   "metadata": {
    "papermill": {
     "duration": 0.004046,
     "end_time": "2025-03-05T14:07:24.683431",
     "exception": false,
     "start_time": "2025-03-05T14:07:24.679385",
     "status": "completed"
    },
    "tags": []
   },
   "source": [
    "### Summaries\n"
   ]
  },
  {
   "cell_type": "code",
   "execution_count": 10,
   "id": "835c432e",
   "metadata": {
    "execution": {
     "iopub.execute_input": "2025-03-05T14:07:24.699505Z",
     "iopub.status.busy": "2025-03-05T14:07:24.697741Z",
     "iopub.status.idle": "2025-03-05T14:07:24.750696Z",
     "shell.execute_reply": "2025-03-05T14:07:24.749444Z"
    },
    "papermill": {
     "duration": 0.06492,
     "end_time": "2025-03-05T14:07:24.752482",
     "exception": false,
     "start_time": "2025-03-05T14:07:24.687562",
     "status": "completed"
    },
    "tags": []
   },
   "outputs": [
    {
     "data": {
      "text/plain": [
       "\n",
       "\n",
       "|Topic        |Metric  |Value            |\n",
       "|:------------|:-------|:----------------|\n",
       "|price_ori    |Min.    |0                |\n",
       "|price_ori    |1st Qu. |2.2575           |\n",
       "|price_ori    |Median  |19.9             |\n",
       "|price_ori    |Mean    |304.406872014331 |\n",
       "|price_ori    |3rd Qu. |89.9             |\n",
       "|price_ori    |Max.    |99500            |\n",
       "|price_ori    |NA's    |200              |\n",
       "|item_rating  |Min.    |1                |\n",
       "|item_rating  |1st Qu. |4.9              |\n",
       "|item_rating  |Median  |4.9              |\n",
       "|item_rating  |Mean    |4.88978023111845 |\n",
       "|item_rating  |3rd Qu. |5                |\n",
       "|item_rating  |Max.    |5                |\n",
       "|item_rating  |NA's    |928              |\n",
       "|price_actual |Min.    |0                |\n",
       "|price_actual |1st Qu. |1                |\n",
       "|price_actual |Median  |10               |\n",
       "|price_actual |Mean    |252.70175780287  |\n",
       "|price_actual |3rd Qu. |69               |\n",
       "|price_actual |Max.    |99500            |\n",
       "|price_actual |NA's    |15               |\n",
       "|total_rating |Min.    |0                |\n",
       "|total_rating |1st Qu. |37               |\n",
       "|total_rating |Median  |205              |\n",
       "|total_rating |Mean    |1561.21264962317 |\n",
       "|total_rating |3rd Qu. |1000             |\n",
       "|total_rating |Max.    |407400           |\n",
       "|total_rating |NA's    |11               |\n",
       "|total_sold   |Min.    |0                |\n",
       "|total_sold   |1st Qu. |37               |\n",
       "|total_sold   |Median  |205              |\n",
       "|total_sold   |Mean    |1561.21264962317 |\n",
       "|total_sold   |3rd Qu. |1000             |\n",
       "|total_sold   |Max.    |407400           |\n",
       "|total_sold   |NA's    |11               |"
      ]
     },
     "metadata": {},
     "output_type": "display_data"
    }
   ],
   "source": [
    "options(scipen = 999)\n",
    "\n",
    "nums <- c(\"price_ori\", \"item_rating\", \"price_actual\", \"total_rating\", \"total_sold\")\n",
    "\n",
    "#Filter prices with more than 5 digits\n",
    "summary_list <- lapply(nums, function(var) {\n",
    "  if (var %in% c(\"price_ori\", \"price_actual\")) {\n",
    "    valores_filtrados <- shopee_fin[[var]][shopee_fin[[var]] < 99999] \n",
    "  } else {\n",
    "    valores_filtrados <- shopee_fin[[var]]\n",
    "  }\n",
    "# Apply summary\n",
    "  resumo <- summary(valores_filtrados)\n",
    "  \n",
    "# Creates a dataframe with the results\n",
    "  data.frame(\n",
    "    Estatística = var, \n",
    "    Métrica = names(resumo), \n",
    "    Valor = as.character(resumo),  # Converts to strings to avoid problemas with NA\n",
    "    stringsAsFactors = FALSE\n",
    "  )\n",
    "})\n",
    "\n",
    "# Combine the results in one table\n",
    "summary_table <- bind_rows(summary_list)\n",
    "\n",
    "# Exhibit formated table\n",
    "kable(summary_table, col.names = c(\"Topic\", \"Metric\", \"Value\"))\n",
    "\n",
    "#KPIs display\n",
    "\n"
   ]
  },
  {
   "cell_type": "markdown",
   "id": "cb011720",
   "metadata": {
    "papermill": {
     "duration": 0.00386,
     "end_time": "2025-03-05T14:07:24.760774",
     "exception": false,
     "start_time": "2025-03-05T14:07:24.756914",
     "status": "completed"
    },
    "tags": []
   },
   "source": [
    "### Mean price and discounts"
   ]
  },
  {
   "cell_type": "code",
   "execution_count": 11,
   "id": "3f671e55",
   "metadata": {
    "execution": {
     "iopub.execute_input": "2025-03-05T14:07:24.784438Z",
     "iopub.status.busy": "2025-03-05T14:07:24.779621Z",
     "iopub.status.idle": "2025-03-05T14:07:24.819514Z",
     "shell.execute_reply": "2025-03-05T14:07:24.817295Z"
    },
    "papermill": {
     "duration": 0.058415,
     "end_time": "2025-03-05T14:07:24.823280",
     "exception": false,
     "start_time": "2025-03-05T14:07:24.764865",
     "status": "completed"
    },
    "tags": []
   },
   "outputs": [
    {
     "data": {
      "text/html": [
       "<table class=\"dataframe\">\n",
       "<caption>A data.frame: 2 × 2</caption>\n",
       "<thead>\n",
       "\t<tr><th scope=col>KPI</th><th scope=col>Value</th></tr>\n",
       "\t<tr><th scope=col>&lt;chr&gt;</th><th scope=col>&lt;dbl&gt;</th></tr>\n",
       "</thead>\n",
       "<tbody>\n",
       "\t<tr><td>Mean Price       </td><td>65.97746</td></tr>\n",
       "\t<tr><td>Mean Discount (%)</td><td>37.51614</td></tr>\n",
       "</tbody>\n",
       "</table>\n"
      ],
      "text/latex": [
       "A data.frame: 2 × 2\n",
       "\\begin{tabular}{ll}\n",
       " KPI & Value\\\\\n",
       " <chr> & <dbl>\\\\\n",
       "\\hline\n",
       "\t Mean Price        & 65.97746\\\\\n",
       "\t Mean Discount (\\%) & 37.51614\\\\\n",
       "\\end{tabular}\n"
      ],
      "text/markdown": [
       "\n",
       "A data.frame: 2 × 2\n",
       "\n",
       "| KPI &lt;chr&gt; | Value &lt;dbl&gt; |\n",
       "|---|---|\n",
       "| Mean Price        | 65.97746 |\n",
       "| Mean Discount (%) | 37.51614 |\n",
       "\n"
      ],
      "text/plain": [
       "  KPI               Value   \n",
       "1 Mean Price        65.97746\n",
       "2 Mean Discount (%) 37.51614"
      ]
     },
     "metadata": {},
     "output_type": "display_data"
    }
   ],
   "source": [
    "# KPIs\n",
    "\n",
    "# Average product price for the whole database\n",
    "\n",
    "# Many products were being sold with 100% discount\n",
    "\n",
    "no_na <- !is.na(shopee_fin$price_ori) & !is.na(shopee_fin$total_sold) & !is.na(shopee_fin$price_actual) & shopee_fin$price_ori <= 99999 & shopee_fin$price_actual > 0 \n",
    "w_price <- weighted.mean(shopee$price_ori[no_na], shopee_fin$total_sold[no_na])\n",
    "discount <- (shopee_fin$price_ori[no_na] - shopee_fin$price_actual[no_na]) / shopee_fin$price_ori[no_na]\n",
    "w_discount <- weighted.mean(discount, shopee_fin$total_sold[no_na])\n",
    "\n",
    "data.frame(\n",
    "    KPI = c(\"Mean Price\", \"Mean Discount (%)\"),\n",
    "    Value = c(w_price, w_discount*100)\n",
    ")"
   ]
  },
  {
   "cell_type": "markdown",
   "id": "59213939",
   "metadata": {
    "papermill": {
     "duration": 0.005829,
     "end_time": "2025-03-05T14:07:24.835202",
     "exception": false,
     "start_time": "2025-03-05T14:07:24.829373",
     "status": "completed"
    },
    "tags": []
   },
   "source": []
  },
  {
   "cell_type": "code",
   "execution_count": 12,
   "id": "a7945475",
   "metadata": {
    "execution": {
     "iopub.execute_input": "2025-03-05T14:07:24.854993Z",
     "iopub.status.busy": "2025-03-05T14:07:24.852712Z",
     "iopub.status.idle": "2025-03-05T14:07:24.878033Z",
     "shell.execute_reply": "2025-03-05T14:07:24.875046Z"
    },
    "papermill": {
     "duration": 0.039304,
     "end_time": "2025-03-05T14:07:24.881809",
     "exception": false,
     "start_time": "2025-03-05T14:07:24.842505",
     "status": "completed"
    },
    "tags": []
   },
   "outputs": [
    {
     "data": {
      "text/html": [
       "<style>\n",
       ".list-inline {list-style: none; margin:0; padding: 0}\n",
       ".list-inline>li {display: inline-block}\n",
       ".list-inline>li:not(:last-child)::after {content: \"\\00b7\"; padding: 0 .5ex}\n",
       "</style>\n",
       "<ol class=list-inline><li>' Women\\'s Bags '</li><li>' Home Appliances '</li><li>' Women Clothes '</li><li>' Cameras &amp; Drones '</li><li>' Others '</li><li>' Mobile &amp; Accessories '</li><li>' Men Clothes '</li><li>' Men\\'s Bags &amp; Wallets '</li><li>' Watches '</li><li>' Health &amp; Beauty '</li><li>' Baby &amp; Toys '</li><li>' Home &amp; Living '</li><li>' Groceries &amp; Pets '</li><li>' Fashion Accessories '</li><li>' Men Shoes '</li><li>' Computer &amp; Accessories '</li><li>' Games, Books &amp; Hobbies '</li><li>' Tickets &amp; Vouchers '</li><li>' Automotive '</li><li>' Women Shoes '</li><li>' Sports &amp; Outdoor '</li><li>' Muslim Fashion '</li><li>' Travel &amp; Luggage '</li><li>' Gaming &amp; Consoles '</li></ol>\n"
      ],
      "text/latex": [
       "\\begin{enumerate*}\n",
       "\\item ' Women\\textbackslash{}'s Bags '\n",
       "\\item ' Home Appliances '\n",
       "\\item ' Women Clothes '\n",
       "\\item ' Cameras \\& Drones '\n",
       "\\item ' Others '\n",
       "\\item ' Mobile \\& Accessories '\n",
       "\\item ' Men Clothes '\n",
       "\\item ' Men\\textbackslash{}'s Bags \\& Wallets '\n",
       "\\item ' Watches '\n",
       "\\item ' Health \\& Beauty '\n",
       "\\item ' Baby \\& Toys '\n",
       "\\item ' Home \\& Living '\n",
       "\\item ' Groceries \\& Pets '\n",
       "\\item ' Fashion Accessories '\n",
       "\\item ' Men Shoes '\n",
       "\\item ' Computer \\& Accessories '\n",
       "\\item ' Games, Books \\& Hobbies '\n",
       "\\item ' Tickets \\& Vouchers '\n",
       "\\item ' Automotive '\n",
       "\\item ' Women Shoes '\n",
       "\\item ' Sports \\& Outdoor '\n",
       "\\item ' Muslim Fashion '\n",
       "\\item ' Travel \\& Luggage '\n",
       "\\item ' Gaming \\& Consoles '\n",
       "\\end{enumerate*}\n"
      ],
      "text/markdown": [
       "1. ' Women\\'s Bags '\n",
       "2. ' Home Appliances '\n",
       "3. ' Women Clothes '\n",
       "4. ' Cameras &amp; Drones '\n",
       "5. ' Others '\n",
       "6. ' Mobile &amp; Accessories '\n",
       "7. ' Men Clothes '\n",
       "8. ' Men\\'s Bags &amp; Wallets '\n",
       "9. ' Watches '\n",
       "10. ' Health &amp; Beauty '\n",
       "11. ' Baby &amp; Toys '\n",
       "12. ' Home &amp; Living '\n",
       "13. ' Groceries &amp; Pets '\n",
       "14. ' Fashion Accessories '\n",
       "15. ' Men Shoes '\n",
       "16. ' Computer &amp; Accessories '\n",
       "17. ' Games, Books &amp; Hobbies '\n",
       "18. ' Tickets &amp; Vouchers '\n",
       "19. ' Automotive '\n",
       "20. ' Women Shoes '\n",
       "21. ' Sports &amp; Outdoor '\n",
       "22. ' Muslim Fashion '\n",
       "23. ' Travel &amp; Luggage '\n",
       "24. ' Gaming &amp; Consoles '\n",
       "\n",
       "\n"
      ],
      "text/plain": [
       " [1] \" Women's Bags \"           \" Home Appliances \"       \n",
       " [3] \" Women Clothes \"          \" Cameras & Drones \"      \n",
       " [5] \" Others \"                 \" Mobile & Accessories \"  \n",
       " [7] \" Men Clothes \"            \" Men's Bags & Wallets \"  \n",
       " [9] \" Watches \"                \" Health & Beauty \"       \n",
       "[11] \" Baby & Toys \"            \" Home & Living \"         \n",
       "[13] \" Groceries & Pets \"       \" Fashion Accessories \"   \n",
       "[15] \" Men Shoes \"              \" Computer & Accessories \"\n",
       "[17] \" Games, Books & Hobbies \" \" Tickets & Vouchers \"    \n",
       "[19] \" Automotive \"             \" Women Shoes \"           \n",
       "[21] \" Sports & Outdoor \"       \" Muslim Fashion \"        \n",
       "[23] \" Travel & Luggage \"       \" Gaming & Consoles \"     "
      ]
     },
     "metadata": {},
     "output_type": "display_data"
    }
   ],
   "source": [
    "unique(shopee_fin$cat2)\n"
   ]
  },
  {
   "cell_type": "markdown",
   "id": "69957e43",
   "metadata": {
    "papermill": {
     "duration": 0.005909,
     "end_time": "2025-03-05T14:07:24.893083",
     "exception": false,
     "start_time": "2025-03-05T14:07:24.887174",
     "status": "completed"
    },
    "tags": []
   },
   "source": [
    "### Visualize the best selling categories"
   ]
  },
  {
   "cell_type": "code",
   "execution_count": 13,
   "id": "0761e323",
   "metadata": {
    "execution": {
     "iopub.execute_input": "2025-03-05T14:07:24.907062Z",
     "iopub.status.busy": "2025-03-05T14:07:24.905589Z",
     "iopub.status.idle": "2025-03-05T14:07:26.053210Z",
     "shell.execute_reply": "2025-03-05T14:07:26.050954Z"
    },
    "papermill": {
     "duration": 1.157308,
     "end_time": "2025-03-05T14:07:26.055774",
     "exception": false,
     "start_time": "2025-03-05T14:07:24.898466",
     "status": "completed"
    },
    "tags": []
   },
   "outputs": [
    {
     "data": {
      "image/png": "[encoded data removed]"
     },
     "metadata": {
      "image/png": {
       "height": 420,
       "width": 420
      }
     },
     "output_type": "display_data"
    }
   ],
   "source": [
    "p1 <- ggplot(shopee_fin, aes(x = reorder(cat2, table(cat2)[cat2]), fill = after_stat(count))) +\n",
    "  geom_bar() +\n",
    "  coord_flip() +\n",
    "  scale_fill_gradient(low = \"grey\", high = \"green\") +\n",
    "  labs(x = \"\", y = \"\", title = \"Categories\") +\n",
    "  theme_minimal() + \n",
    "  theme(\n",
    "    legend.position = \"none\",\n",
    "    axis.text.x = element_text(vjust = 0.5, hjust = 1, color = \"black\", face = \"bold\"),\n",
    "    axis.text.y = element_text(vjust = 0.5, hjust = 1, color = \"black\", face = \"bold\"),    \n",
    "    plot.title = element_text(face = \"bold\", size = 14),\n",
    "    panel.grid.major.x = element_blank(),\n",
    "    panel.grid.minor = element_blank()\n",
    "  )\n",
    "\n",
    "shopee_filtrado <- shopee_fin %>%\n",
    "  mutate(cat3 = trimws(cat3)) %>%\n",
    "  filter(cat3 != \"Others\") %>%\n",
    "  group_by(cat3) %>%\n",
    "  filter(n() > 150) %>%\n",
    "  ungroup() %>%\n",
    "  mutate(cat3 = as.character(cat3))\n",
    "\n",
    "p2 <- ggplot(shopee_filtrado, aes(x = reorder(cat3, table(cat3)[cat3]), fill = after_stat(count))) +\n",
    "  geom_bar() +\n",
    "  coord_flip() +\n",
    "  scale_fill_gradient(low = \"grey\", high = \"blue\") +\n",
    "  labs(x = \"\", y = \"\", title = \"Sub-categories\") +\n",
    "  theme_minimal() + \n",
    "  theme(\n",
    "    legend.position = \"none\",\n",
    "    axis.text.x = element_text(vjust = 0.5, hjust = 1, color = \"black\", face = \"bold\"),\n",
    "    axis.text.y = element_text(vjust = 0.5, hjust = 1, color = \"black\", face = \"bold\"),    \n",
    "    plot.title = element_text(face = \"bold\", size = 14),\n",
    "    panel.grid.major.x = element_blank(),\n",
    "    panel.grid.minor = element_blank()\n",
    "  )\n",
    "p1 + p2"
   ]
  },
  {
   "cell_type": "markdown",
   "id": "5f53b031",
   "metadata": {
    "papermill": {
     "duration": 0.006732,
     "end_time": "2025-03-05T14:07:26.069673",
     "exception": false,
     "start_time": "2025-03-05T14:07:26.062941",
     "status": "completed"
    },
    "tags": []
   },
   "source": [
    "### Visualization of the best-selling non-clothing/health category of products"
   ]
  },
  {
   "cell_type": "code",
   "execution_count": 14,
   "id": "48dcb974",
   "metadata": {
    "execution": {
     "iopub.execute_input": "2025-03-05T14:07:26.086897Z",
     "iopub.status.busy": "2025-03-05T14:07:26.085474Z",
     "iopub.status.idle": "2025-03-05T14:07:26.527727Z",
     "shell.execute_reply": "2025-03-05T14:07:26.526268Z"
    },
    "papermill": {
     "duration": 0.453009,
     "end_time": "2025-03-05T14:07:26.529491",
     "exception": false,
     "start_time": "2025-03-05T14:07:26.076482",
     "status": "completed"
    },
    "tags": []
   },
   "outputs": [
    {
     "data": {
      "image/png": "[encoded data removed]"
     },
     "metadata": {
      "image/png": {
       "height": 420,
       "width": 420
      }
     },
     "output_type": "display_data"
    }
   ],
   "source": [
    "shopee_filtrado <- shopee_fin %>%\n",
    "  filter(cat2 == \" Mobile & Accessories \") %>%\n",
    "  mutate(cat3 = trimws(cat3)) %>% # Used to filter que \"Others\" category\n",
    "  filter(cat3 != \"Others\") %>%\n",
    "  group_by(cat3) %>%\n",
    "  mutate(cat3 = as.character(cat3))\n",
    "\n",
    "ggplot(shopee_filtrado, aes(x = reorder(cat3, table(cat3)[cat3]), fill = after_stat(count))) +\n",
    "  geom_bar() +\n",
    "  coord_flip() +\n",
    "  scale_fill_gradient(low = \"grey\", high = \"red\") +\n",
    "  labs(x = \"\", y = \"\", title = \"Categories Count\") +\n",
    "  theme_minimal() + \n",
    "  theme(\n",
    "    legend.position = \"none\",\n",
    "    axis.text.x = element_text(vjust = 0.5, hjust = 1, color = \"black\", face = \"bold\"),\n",
    "    axis.text.y = element_text(vjust = 0.5, hjust = 1, color = \"black\", face = \"bold\"),    \n",
    "    plot.title = element_text(face = \"bold\", size = 14),\n",
    "    panel.grid.major.x = element_blank(),\n",
    "    panel.grid.minor = element_blank()\n",
    "  )"
   ]
  }
 ],
 "metadata": {
  "kaggle": {
   "accelerator": "none",
   "dataSources": [
    {
     "datasetId": 4729575,
     "sourceId": 8025397,
     "sourceType": "datasetVersion"
    }
   ],
   "dockerImageVersionId": 30749,
   "isGpuEnabled": false,
   "isInternetEnabled": true,
   "language": "r",
   "sourceType": "notebook"
  },
  "kernelspec": {
   "display_name": "R",
   "language": "R",
   "name": "ir"
  },
  "language_info": {
   "codemirror_mode": "r",
   "file_extension": ".r",
   "mimetype": "text/x-r-source",
   "name": "R",
   "pygments_lexer": "r",
   "version": "4.4.0"
  },
  "papermill": {
   "default_parameters": {},
   "duration": 9.991314,
   "end_time": "2025-03-05T14:07:26.658648",
   "environment_variables": {},
   "exception": null,
   "input_path": "__notebook__.ipynb",
   "output_path": "__notebook__.ipynb",
   "parameters": {},
   "start_time": "2025-03-05T14:07:16.667334",
   "version": "2.6.0"
  }
 },
 "nbformat": 4,
 "nbformat_minor": 5
}
